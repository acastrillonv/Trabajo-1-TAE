{
 "cells": [
  {
   "cell_type": "code",
   "execution_count": 1,
   "metadata": {},
   "outputs": [],
   "source": [
    "import numpy as np\n",
    "import pandas as pd\n",
    "import matplotlib.pyplot as plt\n",
    "from sklearn.cluster import KMeans\n",
    "from sklearn import preprocessing\n",
    "from sklearn.metrics import pairwise_distances_argmin_min\n",
    "import seaborn as sb\n",
    "from yellowbrick.cluster import KElbowVisualizer\n",
    "import matplotlib\n",
    "import matplotlib.pyplot as plt\n",
    "from mpl_toolkits.mplot3d import Axes3D\n",
    "import plotly.express as px\n",
    "import plotly.graph_objects as go\n",
    "from sklearn.metrics import silhouette_samples, silhouette_score\n",
    "import matplotlib.cm as cm\n",
    "import plotly.figure_factory as ff\n",
    "from plotly.figure_factory import create_dendrogram\n",
    "from sklearn.preprocessing import MinMaxScaler"
   ]
  },
  {
   "cell_type": "code",
   "execution_count": 2,
   "metadata": {},
   "outputs": [
    {
     "name": "stderr",
     "output_type": "stream",
     "text": [
      "C:\\Users\\Edwar\\AppData\\Local\\Temp\\ipykernel_6428\\1466162896.py:2: DtypeWarning: Columns (7,9,1427,1542,1561,1575) have mixed types. Specify dtype option on import or set low_memory=False.\n",
      "  CollegeScoreCard=pd.read_csv('CollegeScorecard.csv', sep=',', encoding = 'utf-8')\n"
     ]
    },
    {
     "data": {
      "text/plain": [
       "(7804, 1725)"
      ]
     },
     "execution_count": 2,
     "metadata": {},
     "output_type": "execute_result"
    }
   ],
   "source": [
    "# Se cargan los datos. \n",
    "CollegeScoreCard=pd.read_csv('CollegeScorecard.csv', sep=',', encoding = 'utf-8')\n",
    "# Cantidad de datos y número de variables\n",
    "CollegeScoreCard.shape"
   ]
  },
  {
   "cell_type": "code",
   "execution_count": 3,
   "metadata": {},
   "outputs": [],
   "source": [
    "# data[data['INSTNM'].str.contains('niversity') & data[\"COSTT4_P\"].notnull()]\n",
    "# data[~data['INSTNM'].str.contains('niversity') & ~data['INSTNM'].str.contains('ollege') & ~data['INSTNM'].str.contains('nstitu')]\n",
    "# data[data['INSTNM'].str.contains('niversity') | data['INSTNM'].str.contains('ollege') | data['INSTNM'].str.contains('nstitu') | data['INSTNM'].str.contains('chool') | data['INSTNM'].str.contains('enter')]\n",
    "# data[~data['INSTNM'].str.contains('niversity') & ~data['INSTNM'].str.contains('ollege') & ~data['INSTNM'].str.contains('nstitu') & ~data['INSTNM'].str.contains('chool') & ~data['INSTNM'].str.contains('enter')]\n",
    "# data[~data['INSTNM'].str.contains('niversity') & ~data['INSTNM'].str.contains('ollege') & ~data['INSTNM'].str.contains('nstitu') & ~data['INSTNM'].str.contains('chool') & ~data['INSTNM'].str.contains('enter') & ~data['INSTNM'].str.contains('cadem')]\n",
    "# data[~data['INSTNM'].str.contains('niversity') & ~data['INSTNM'].str.contains('ollege') & ~data['INSTNM'].str.contains('nstitu') & ~data['INSTNM'].str.contains('chool') & ~data['INSTNM'].str.contains('enter') & ~data['INSTNM'].str.contains('cadem')  & ~data['INSTNM'].str.contains('CET')]\n",
    "# data[data['INSTNM'].str.contains('niversity') | data['INSTNM'].str.contains('ollege') | data['INSTNM'].str.contains('nstitu') ]"
   ]
  },
  {
   "cell_type": "code",
   "execution_count": 4,
   "metadata": {},
   "outputs": [],
   "source": [
    "def trans_variable_control(p):\n",
    "    p_mod=''\n",
    "    if p == 1:\n",
    "        return \"PUBLIC\"\n",
    "    elif p == 2:\n",
    "        return \"PRIVATE NONPROFIT\"\n",
    "    else:\n",
    "        return \"PRIVATE FOR-PROFIT\""
   ]
  },
  {
   "cell_type": "code",
   "execution_count": 5,
   "metadata": {},
   "outputs": [],
   "source": [
    "# Depuracion y eleccion de variables\n",
    "data=CollegeScoreCard[CollegeScoreCard[\"CURROPER\"]!=0]\n",
    "data=data[data[\"DISTANCEONLY\"]!=1]\n",
    "#data=data[[\"INSTNM\",\"CONTROL\",\"COSTT4_A\",\"COSTT4_P\",\"PCTPELL\",\"UG25abv\",\"PCIP11\",\"PCIP14\",\"PCIP16\",\"PCIP26\",\"PCIP27\",\"PCIP42\",\"PCIP52\"]]\n",
    "data=data[[\"INSTNM\",\"CONTROL\",\"COSTT4_A\",\"COSTT4_P\",\"PCTPELL\",\"UG25abv\",\"TUITFTE\"]]\n",
    "data=data[data[\"COSTT4_A\"].notnull() | data[\"COSTT4_P\"].notnull()]\n",
    "data=data[data['INSTNM'].str.contains('niversity') | data['INSTNM'].str.contains('ollege') | data['INSTNM'].str.contains('nstitu') ]\n",
    "data=data[data[\"COSTT4_A\"].notnull()]\n",
    "data=data[data['UG25abv'].notnull()]\n",
    "data=data.drop(['COSTT4_P'],axis=1)\n",
    "data[\"CONTROL\"]=data[\"CONTROL\"].apply(trans_variable_control)\n",
    "data=data.drop([2124])"
   ]
  },
  {
   "cell_type": "code",
   "execution_count": 6,
   "metadata": {},
   "outputs": [
    {
     "data": {
      "text/plain": [
       "count     3747.000000\n",
       "mean      9933.889512\n",
       "std       7427.442206\n",
       "min          2.000000\n",
       "25%       3305.000000\n",
       "50%       9194.000000\n",
       "75%      14704.500000\n",
       "max      61621.000000\n",
       "Name: TUITFTE, dtype: float64"
      ]
     },
     "execution_count": 6,
     "metadata": {},
     "output_type": "execute_result"
    }
   ],
   "source": [
    "data['TUITFTE'].describe()"
   ]
  },
  {
   "cell_type": "markdown",
   "metadata": {},
   "source": [
    "Para la depuración inicial de la base de datos se tomaron en cuenta las instituciones que están operando actualmente y que sean solamente presenciales. Luego seleccionamos las variables que queremos tomar en cuenta en nuestro estudio:\n",
    "- Nombre de institución.\n",
    "- Tipo de institución (Public, private nonprofit, private for-profit).\n",
    "- Costo anual de estudio.\n",
    "- Porcentaje de estudiantes con beca \"PELL\".\n",
    "- Porcentaje de estudiantes mayores a 25 años.\n",
    "- Porcentaje de diplomas entregados en diferentes areas del conocimiento (Computer Science, Engineering, Linguistics, Biological Science, Mathematics, Psychology, Business)\n",
    "\n",
    "Luego procedemos a revisar los valores nulos de las variables seleccionadas y se eliminan los valores nulos debido a que no tienen una gran representación en la base de datos."
   ]
  },
  {
   "cell_type": "code",
   "execution_count": 7,
   "metadata": {},
   "outputs": [],
   "source": [
    "# data=data.rename(columns={'CONTROL': 'Tipo_de_Entidad','COSTT4_A': 'Costo_Anual_Estudio','PCTPELL': 'Becados_Pell','UG25abv': 'Estudiantes_Mayor_25','PCIP11': 'Computer_Science', 'PCIP14': 'Engineering','PCIP16': 'Linguistics', 'PCIP26': 'Biological_Science','PCIP27': 'Mathematics','PCIP42': 'Psychology','PCIP52': 'Business'})\n",
    "data=data.rename(columns={'CONTROL': 'Tipo_de_Entidad','COSTT4_A': 'Costo_Anual_Estudio','PCTPELL': 'Becados_Pell','UG25abv': 'Estudiantes_Mayor_25','TUITFTE':'GananciaEstudiante'})"
   ]
  },
  {
   "cell_type": "code",
   "execution_count": 8,
   "metadata": {},
   "outputs": [
    {
     "data": {
      "text/plain": [
       "PUBLIC                1584\n",
       "PRIVATE NONPROFIT     1259\n",
       "PRIVATE FOR-PROFIT     904\n",
       "Name: Tipo_de_Entidad, dtype: int64"
      ]
     },
     "execution_count": 8,
     "metadata": {},
     "output_type": "execute_result"
    }
   ],
   "source": [
    "data['Tipo_de_Entidad'].value_counts()"
   ]
  },
  {
   "cell_type": "markdown",
   "metadata": {},
   "source": [
    "Se normaliza la base de datos convirtiendo las variables categóricas en \"dummies\" para poder usarlas en el análisis."
   ]
  },
  {
   "cell_type": "code",
   "execution_count": 9,
   "metadata": {},
   "outputs": [],
   "source": [
    "#Dymmys\n",
    "data= pd.get_dummies(data, columns=['Tipo_de_Entidad'])"
   ]
  },
  {
   "cell_type": "code",
   "execution_count": 10,
   "metadata": {},
   "outputs": [
    {
     "data": {
      "text/html": [
       "<div>\n",
       "<style scoped>\n",
       "    .dataframe tbody tr th:only-of-type {\n",
       "        vertical-align: middle;\n",
       "    }\n",
       "\n",
       "    .dataframe tbody tr th {\n",
       "        vertical-align: top;\n",
       "    }\n",
       "\n",
       "    .dataframe thead th {\n",
       "        text-align: right;\n",
       "    }\n",
       "</style>\n",
       "<table border=\"1\" class=\"dataframe\">\n",
       "  <thead>\n",
       "    <tr style=\"text-align: right;\">\n",
       "      <th></th>\n",
       "      <th>INSTNM</th>\n",
       "      <th>Costo_Anual_Estudio</th>\n",
       "      <th>Becados_Pell</th>\n",
       "      <th>Estudiantes_Mayor_25</th>\n",
       "      <th>GananciaEstudiante</th>\n",
       "      <th>Tipo_de_Entidad_PRIVATE FOR-PROFIT</th>\n",
       "      <th>Tipo_de_Entidad_PRIVATE NONPROFIT</th>\n",
       "      <th>Tipo_de_Entidad_PUBLIC</th>\n",
       "    </tr>\n",
       "  </thead>\n",
       "  <tbody>\n",
       "    <tr>\n",
       "      <th>0</th>\n",
       "      <td>Alabama A &amp; M University</td>\n",
       "      <td>18888.0</td>\n",
       "      <td>0.7115</td>\n",
       "      <td>0.1049</td>\n",
       "      <td>9063.0</td>\n",
       "      <td>0</td>\n",
       "      <td>0</td>\n",
       "      <td>1</td>\n",
       "    </tr>\n",
       "    <tr>\n",
       "      <th>1</th>\n",
       "      <td>University of Alabama at Birmingham</td>\n",
       "      <td>19990.0</td>\n",
       "      <td>0.3505</td>\n",
       "      <td>0.2422</td>\n",
       "      <td>9033.0</td>\n",
       "      <td>0</td>\n",
       "      <td>0</td>\n",
       "      <td>1</td>\n",
       "    </tr>\n",
       "    <tr>\n",
       "      <th>2</th>\n",
       "      <td>Amridge University</td>\n",
       "      <td>12300.0</td>\n",
       "      <td>0.6839</td>\n",
       "      <td>0.8540</td>\n",
       "      <td>12057.0</td>\n",
       "      <td>0</td>\n",
       "      <td>1</td>\n",
       "      <td>0</td>\n",
       "    </tr>\n",
       "    <tr>\n",
       "      <th>3</th>\n",
       "      <td>University of Alabama in Huntsville</td>\n",
       "      <td>20306.0</td>\n",
       "      <td>0.3281</td>\n",
       "      <td>0.2640</td>\n",
       "      <td>8322.0</td>\n",
       "      <td>0</td>\n",
       "      <td>0</td>\n",
       "      <td>1</td>\n",
       "    </tr>\n",
       "    <tr>\n",
       "      <th>4</th>\n",
       "      <td>Alabama State University</td>\n",
       "      <td>17400.0</td>\n",
       "      <td>0.8265</td>\n",
       "      <td>0.1270</td>\n",
       "      <td>7813.0</td>\n",
       "      <td>0</td>\n",
       "      <td>0</td>\n",
       "      <td>1</td>\n",
       "    </tr>\n",
       "  </tbody>\n",
       "</table>\n",
       "</div>"
      ],
      "text/plain": [
       "                                INSTNM  Costo_Anual_Estudio  Becados_Pell  \\\n",
       "0             Alabama A & M University              18888.0        0.7115   \n",
       "1  University of Alabama at Birmingham              19990.0        0.3505   \n",
       "2                   Amridge University              12300.0        0.6839   \n",
       "3  University of Alabama in Huntsville              20306.0        0.3281   \n",
       "4             Alabama State University              17400.0        0.8265   \n",
       "\n",
       "   Estudiantes_Mayor_25  GananciaEstudiante  \\\n",
       "0                0.1049              9063.0   \n",
       "1                0.2422              9033.0   \n",
       "2                0.8540             12057.0   \n",
       "3                0.2640              8322.0   \n",
       "4                0.1270              7813.0   \n",
       "\n",
       "   Tipo_de_Entidad_PRIVATE FOR-PROFIT  Tipo_de_Entidad_PRIVATE NONPROFIT  \\\n",
       "0                                   0                                  0   \n",
       "1                                   0                                  0   \n",
       "2                                   0                                  1   \n",
       "3                                   0                                  0   \n",
       "4                                   0                                  0   \n",
       "\n",
       "   Tipo_de_Entidad_PUBLIC  \n",
       "0                       1  \n",
       "1                       1  \n",
       "2                       0  \n",
       "3                       1  \n",
       "4                       1  "
      ]
     },
     "execution_count": 10,
     "metadata": {},
     "output_type": "execute_result"
    }
   ],
   "source": [
    "data.head()"
   ]
  },
  {
   "cell_type": "code",
   "execution_count": 11,
   "metadata": {},
   "outputs": [
    {
     "data": {
      "text/html": [
       "<div>\n",
       "<style scoped>\n",
       "    .dataframe tbody tr th:only-of-type {\n",
       "        vertical-align: middle;\n",
       "    }\n",
       "\n",
       "    .dataframe tbody tr th {\n",
       "        vertical-align: top;\n",
       "    }\n",
       "\n",
       "    .dataframe thead th {\n",
       "        text-align: right;\n",
       "    }\n",
       "</style>\n",
       "<table border=\"1\" class=\"dataframe\">\n",
       "  <thead>\n",
       "    <tr style=\"text-align: right;\">\n",
       "      <th></th>\n",
       "      <th>Costo_Anual_Estudio</th>\n",
       "      <th>Becados_Pell</th>\n",
       "      <th>Estudiantes_Mayor_25</th>\n",
       "      <th>GananciaEstudiante</th>\n",
       "      <th>Tipo_de_Entidad_PRIVATE FOR-PROFIT</th>\n",
       "      <th>Tipo_de_Entidad_PRIVATE NONPROFIT</th>\n",
       "      <th>Tipo_de_Entidad_PUBLIC</th>\n",
       "    </tr>\n",
       "  </thead>\n",
       "  <tbody>\n",
       "    <tr>\n",
       "      <th>count</th>\n",
       "      <td>3747.000000</td>\n",
       "      <td>3747.000000</td>\n",
       "      <td>3747.000000</td>\n",
       "      <td>3747.000000</td>\n",
       "      <td>3747.000000</td>\n",
       "      <td>3747.000000</td>\n",
       "      <td>3747.000000</td>\n",
       "    </tr>\n",
       "    <tr>\n",
       "      <th>mean</th>\n",
       "      <td>24340.439018</td>\n",
       "      <td>0.485286</td>\n",
       "      <td>0.361186</td>\n",
       "      <td>9933.889512</td>\n",
       "      <td>0.241260</td>\n",
       "      <td>0.336002</td>\n",
       "      <td>0.422738</td>\n",
       "    </tr>\n",
       "    <tr>\n",
       "      <th>std</th>\n",
       "      <td>12373.111799</td>\n",
       "      <td>0.207783</td>\n",
       "      <td>0.236188</td>\n",
       "      <td>7427.442206</td>\n",
       "      <td>0.427905</td>\n",
       "      <td>0.472403</td>\n",
       "      <td>0.494060</td>\n",
       "    </tr>\n",
       "    <tr>\n",
       "      <th>min</th>\n",
       "      <td>4157.000000</td>\n",
       "      <td>0.000000</td>\n",
       "      <td>0.000500</td>\n",
       "      <td>2.000000</td>\n",
       "      <td>0.000000</td>\n",
       "      <td>0.000000</td>\n",
       "      <td>0.000000</td>\n",
       "    </tr>\n",
       "    <tr>\n",
       "      <th>25%</th>\n",
       "      <td>13794.500000</td>\n",
       "      <td>0.328050</td>\n",
       "      <td>0.169550</td>\n",
       "      <td>3305.000000</td>\n",
       "      <td>0.000000</td>\n",
       "      <td>0.000000</td>\n",
       "      <td>0.000000</td>\n",
       "    </tr>\n",
       "    <tr>\n",
       "      <th>50%</th>\n",
       "      <td>22646.000000</td>\n",
       "      <td>0.453800</td>\n",
       "      <td>0.336200</td>\n",
       "      <td>9194.000000</td>\n",
       "      <td>0.000000</td>\n",
       "      <td>0.000000</td>\n",
       "      <td>0.000000</td>\n",
       "    </tr>\n",
       "    <tr>\n",
       "      <th>75%</th>\n",
       "      <td>30694.500000</td>\n",
       "      <td>0.639500</td>\n",
       "      <td>0.527800</td>\n",
       "      <td>14704.500000</td>\n",
       "      <td>0.000000</td>\n",
       "      <td>1.000000</td>\n",
       "      <td>1.000000</td>\n",
       "    </tr>\n",
       "    <tr>\n",
       "      <th>max</th>\n",
       "      <td>74473.000000</td>\n",
       "      <td>1.000000</td>\n",
       "      <td>1.000000</td>\n",
       "      <td>61621.000000</td>\n",
       "      <td>1.000000</td>\n",
       "      <td>1.000000</td>\n",
       "      <td>1.000000</td>\n",
       "    </tr>\n",
       "  </tbody>\n",
       "</table>\n",
       "</div>"
      ],
      "text/plain": [
       "       Costo_Anual_Estudio  Becados_Pell  Estudiantes_Mayor_25  \\\n",
       "count          3747.000000   3747.000000           3747.000000   \n",
       "mean          24340.439018      0.485286              0.361186   \n",
       "std           12373.111799      0.207783              0.236188   \n",
       "min            4157.000000      0.000000              0.000500   \n",
       "25%           13794.500000      0.328050              0.169550   \n",
       "50%           22646.000000      0.453800              0.336200   \n",
       "75%           30694.500000      0.639500              0.527800   \n",
       "max           74473.000000      1.000000              1.000000   \n",
       "\n",
       "       GananciaEstudiante  Tipo_de_Entidad_PRIVATE FOR-PROFIT  \\\n",
       "count         3747.000000                         3747.000000   \n",
       "mean          9933.889512                            0.241260   \n",
       "std           7427.442206                            0.427905   \n",
       "min              2.000000                            0.000000   \n",
       "25%           3305.000000                            0.000000   \n",
       "50%           9194.000000                            0.000000   \n",
       "75%          14704.500000                            0.000000   \n",
       "max          61621.000000                            1.000000   \n",
       "\n",
       "       Tipo_de_Entidad_PRIVATE NONPROFIT  Tipo_de_Entidad_PUBLIC  \n",
       "count                        3747.000000             3747.000000  \n",
       "mean                            0.336002                0.422738  \n",
       "std                             0.472403                0.494060  \n",
       "min                             0.000000                0.000000  \n",
       "25%                             0.000000                0.000000  \n",
       "50%                             0.000000                0.000000  \n",
       "75%                             1.000000                1.000000  \n",
       "max                             1.000000                1.000000  "
      ]
     },
     "execution_count": 11,
     "metadata": {},
     "output_type": "execute_result"
    }
   ],
   "source": [
    "data.describe()"
   ]
  },
  {
   "cell_type": "code",
   "execution_count": 12,
   "metadata": {},
   "outputs": [],
   "source": [
    "ies=data"
   ]
  },
  {
   "cell_type": "code",
   "execution_count": 13,
   "metadata": {},
   "outputs": [],
   "source": [
    "nombresIes=ies['INSTNM']\n",
    "ies=ies.drop(['INSTNM'],axis=1)"
   ]
  },
  {
   "cell_type": "markdown",
   "metadata": {},
   "source": [
    "Dividimos las bases de datos en 3 grupos:\n",
    "- University\n",
    "- College\n",
    "- Institute\n",
    "Luego eliminamos la columna de los nombres y procedemos a realizar los clusters."
   ]
  },
  {
   "cell_type": "code",
   "execution_count": 14,
   "metadata": {},
   "outputs": [],
   "source": [
    "# copy the data\n",
    "norm_ies = ies.copy()\n",
    "  \n",
    "# apply normalization techniques\n",
    "column = 'Costo_Anual_Estudio'\n",
    "column2= 'GananciaEstudiante'\n",
    "norm_ies[column] = MinMaxScaler().fit_transform(np.array(norm_ies[column]).reshape(-1,1))\n",
    "norm_ies[column2] = MinMaxScaler().fit_transform(np.array(norm_ies[column2]).reshape(-1,1))"
   ]
  },
  {
   "cell_type": "code",
   "execution_count": 15,
   "metadata": {},
   "outputs": [
    {
     "ename": "NameError",
     "evalue": "name 'university' is not defined",
     "output_type": "error",
     "traceback": [
      "\u001b[1;31m---------------------------------------------------------------------------\u001b[0m",
      "\u001b[1;31mNameError\u001b[0m                                 Traceback (most recent call last)",
      "Input \u001b[1;32mIn [15]\u001b[0m, in \u001b[0;36m<cell line: 2>\u001b[1;34m()\u001b[0m\n\u001b[0;32m      1\u001b[0m \u001b[38;5;66;03m# copy the data\u001b[39;00m\n\u001b[1;32m----> 2\u001b[0m norm_university \u001b[38;5;241m=\u001b[39m \u001b[43muniversity\u001b[49m\u001b[38;5;241m.\u001b[39mcopy()\n\u001b[0;32m      3\u001b[0m norm_university[column] \u001b[38;5;241m=\u001b[39m MinMaxScaler()\u001b[38;5;241m.\u001b[39mfit_transform(np\u001b[38;5;241m.\u001b[39marray(norm_university[column])\u001b[38;5;241m.\u001b[39mreshape(\u001b[38;5;241m-\u001b[39m\u001b[38;5;241m1\u001b[39m,\u001b[38;5;241m1\u001b[39m))\n\u001b[0;32m      4\u001b[0m norm_university[column2] \u001b[38;5;241m=\u001b[39m MinMaxScaler()\u001b[38;5;241m.\u001b[39mfit_transform(np\u001b[38;5;241m.\u001b[39marray(norm_university[column2])\u001b[38;5;241m.\u001b[39mreshape(\u001b[38;5;241m-\u001b[39m\u001b[38;5;241m1\u001b[39m,\u001b[38;5;241m1\u001b[39m))\n",
      "\u001b[1;31mNameError\u001b[0m: name 'university' is not defined"
     ]
    }
   ],
   "source": [
    "# copy the data\n",
    "norm_university = university.copy()\n",
    "norm_university[column] = MinMaxScaler().fit_transform(np.array(norm_university[column]).reshape(-1,1))\n",
    "norm_university[column2] = MinMaxScaler().fit_transform(np.array(norm_university[column2]).reshape(-1,1))"
   ]
  },
  {
   "cell_type": "code",
   "execution_count": null,
   "metadata": {},
   "outputs": [],
   "source": [
    "# copy the data\n",
    "norm_college = college.copy()\n",
    "norm_college[column] = MinMaxScaler().fit_transform(np.array(norm_college[column]).reshape(-1,1))\n",
    "norm_college[column2] = MinMaxScaler().fit_transform(np.array(norm_college[column2]).reshape(-1,1))"
   ]
  },
  {
   "cell_type": "code",
   "execution_count": null,
   "metadata": {},
   "outputs": [],
   "source": [
    "# copy the data\n",
    "norm_institution = institution.copy()\n",
    "norm_institution[column] = MinMaxScaler().fit_transform(np.array(norm_institution[column]).reshape(-1,1))\n",
    "norm_institution[column2] = MinMaxScaler().fit_transform(np.array(norm_institution[column2]).reshape(-1,1))"
   ]
  },
  {
   "cell_type": "code",
   "execution_count": null,
   "metadata": {},
   "outputs": [],
   "source": [
    "IescorrMatrix = norm_ies.corr()\n",
    "sb.heatmap(IescorrMatrix, annot=True)\n",
    "plt.show()"
   ]
  },
  {
   "cell_type": "markdown",
   "metadata": {},
   "source": [
    "Por último realizamos la matriz de correlación de la base de datos \"Institution\" en la que podemos observar que la correlación mas significativa es la que hay entre los diplomas entregados en Ciencias Biológicas e Ingeniería que tiene un valor de 0.76."
   ]
  },
  {
   "cell_type": "code",
   "execution_count": null,
   "metadata": {},
   "outputs": [],
   "source": [
    "modelIes = KMeans()\n",
    "visualizer = KElbowVisualizer(modelIes, k=(2,30), timings= True)\n",
    "Iesfit=norm_ies.sample(int(len(norm_ies)*1))\n",
    "visualizer.fit(Iesfit)        \n",
    "visualizer.show() "
   ]
  },
  {
   "cell_type": "code",
   "execution_count": null,
   "metadata": {},
   "outputs": [],
   "source": [
    "modelUni = KMeans()\n",
    "visualizer = KElbowVisualizer(modelUni, k=(2,30), timings= True)\n",
    "Unifit=norm_university.sample(int(len(norm_university)*1))\n",
    "visualizer.fit(Unifit)        \n",
    "visualizer.show() "
   ]
  },
  {
   "cell_type": "code",
   "execution_count": null,
   "metadata": {},
   "outputs": [],
   "source": [
    "modelColl = KMeans()\n",
    "visualizer = KElbowVisualizer(modelColl, k=(2,30), timings= True)\n",
    "Collfit=norm_college.sample(int(len(norm_college)*1))\n",
    "visualizer.fit(Collfit)        \n",
    "visualizer.show() "
   ]
  },
  {
   "cell_type": "code",
   "execution_count": null,
   "metadata": {},
   "outputs": [],
   "source": [
    "modelInst = KMeans()\n",
    "visualizer = KElbowVisualizer(modelInst, k=(2,30), timings= True)\n",
    "Instfit=norm_institution.sample(int(len(norm_institution)*1))\n",
    "visualizer.fit(Instfit)        \n",
    "visualizer.show() "
   ]
  },
  {
   "cell_type": "markdown",
   "metadata": {},
   "source": [
    "Realizamos la prueba de codo para conocer el número óptimo de clusters para cada base de datos en la que quedamos con 4 clusters para university y college y 6 clusters para Institution."
   ]
  },
  {
   "cell_type": "code",
   "execution_count": null,
   "metadata": {},
   "outputs": [],
   "source": [
    "kmeans_model_2D = KMeans(n_clusters=3, max_iter=1000).fit(Iesfit)\n",
    "labels_2D = kmeans_model_2D.labels_\n",
    "centroids_2D = kmeans_model_2D.cluster_centers_\n",
    "fig, ax = plt.subplots(figsize=(7, 5))\n",
    "\n",
    "plt.scatter(centroids_2D[:,0], centroids_2D[:,1], c='r', marker='o')\n",
    "\n",
    "for i in range(len(centroids_2D)):\n",
    "    plt.annotate(i, (centroids_2D[i][0], centroids_2D[i][1]), fontsize=20)"
   ]
  },
  {
   "cell_type": "code",
   "execution_count": null,
   "metadata": {},
   "outputs": [],
   "source": [
    "ies['Nombre Universidad']=nombresIes\n",
    "ies['Clasificacion']=labels_2D\n",
    "ies['Clasificacion'].value_counts()\n",
    "\n",
    "grupo0=ies[ies['Clasificacion']==0]\n",
    "grupo1=ies[ies['Clasificacion']==1]\n",
    "grupo2=ies[ies['Clasificacion']==2]\n",
    "# grupo3=ies[ies['Clasificacion']==3]\n",
    "\n",
    "df=pd.DataFrame()\n",
    "df['grupo0']=grupo0.mean()\n",
    "df['grupo1']=grupo1.mean()\n",
    "df['grupo2']=grupo2.mean()\n",
    "# df['grupo3']=grupo3.median()\n",
    "df"
   ]
  },
  {
   "cell_type": "code",
   "execution_count": null,
   "metadata": {},
   "outputs": [],
   "source": [
    "# dict for the dataframes and their names\n",
    "dfs = {\"grupo0\" : grupo0, \"grupo1\": grupo1, \"grupo2\" : grupo2}\n",
    "\n",
    "# plot the data\n",
    "fig = go.Figure()\n",
    "\n",
    "for i in dfs:\n",
    "    fig = fig.add_trace(go.Box(y = dfs[i][\"Costo_Anual_Estudio\"], \n",
    "                                   name = i))\n",
    "fig.show()"
   ]
  },
  {
   "cell_type": "code",
   "execution_count": null,
   "metadata": {},
   "outputs": [],
   "source": [
    "kmeans_model_2D = KMeans(n_clusters=3, max_iter=1000).fit(Unifit)\n",
    "labels_2D = kmeans_model_2D.labels_\n",
    "centroids_2D = kmeans_model_2D.cluster_centers_\n",
    "fig, ax = plt.subplots(figsize=(7, 5))\n",
    "\n",
    "plt.scatter(centroids_2D[:,0], centroids_2D[:,1], c='r', marker='o')\n",
    "\n",
    "for i in range(len(centroids_2D)):\n",
    "    plt.annotate(i, (centroids_2D[i][0], centroids_2D[i][1]), fontsize=20)"
   ]
  },
  {
   "cell_type": "code",
   "execution_count": null,
   "metadata": {},
   "outputs": [],
   "source": [
    "university['Nombre Universidad']=nombresUniversity\n",
    "university['Clasificacion']=labels_2D\n",
    "university['Clasificacion'].value_counts()\n",
    "\n",
    "grupo0=university[university['Clasificacion']==0]\n",
    "grupo1=university[university['Clasificacion']==1]\n",
    "grupo2=university[university['Clasificacion']==2]\n",
    "# grupo3=university[university['Clasificacion']==3]\n",
    "\n",
    "df=pd.DataFrame()\n",
    "df['grupo0']=grupo0.median()\n",
    "df['grupo1']=grupo1.median()\n",
    "df['grupo2']=grupo2.median()\n",
    "# df['grupo3']=grupo3.median()\n",
    "df"
   ]
  },
  {
   "cell_type": "code",
   "execution_count": null,
   "metadata": {},
   "outputs": [],
   "source": [
    "# dict for the dataframes and their names\n",
    "dfs = {\"grupo0\" : grupo0, \"grupo1\": grupo1, \"grupo2\" : grupo2}\n",
    "\n",
    "# plot the data\n",
    "fig = go.Figure()\n",
    "\n",
    "for i in dfs:\n",
    "    fig = fig.add_trace(go.Box(y = dfs[i][\"Costo_Anual_Estudio\"], \n",
    "                                   name = i))\n",
    "fig.show()"
   ]
  },
  {
   "cell_type": "code",
   "execution_count": null,
   "metadata": {},
   "outputs": [],
   "source": [
    "kmeans_model_2D = KMeans(n_clusters=3, max_iter=1000).fit(Collfit)\n",
    "labels_2D = kmeans_model_2D.labels_\n",
    "centroids_2D = kmeans_model_2D.cluster_centers_\n",
    "fig, ax = plt.subplots(figsize=(7, 5))\n",
    "\n",
    "plt.scatter(centroids_2D[:,0], centroids_2D[:,1], c='r', marker='o')\n",
    "\n",
    "for i in range(len(centroids_2D)):\n",
    "    plt.annotate(i, (centroids_2D[i][0], centroids_2D[i][1]), fontsize=20)"
   ]
  },
  {
   "cell_type": "code",
   "execution_count": null,
   "metadata": {},
   "outputs": [],
   "source": [
    "college['Nombre Collage']=nombresCollege\n",
    "college['Clasificacion']=labels_2D\n",
    "college['Clasificacion'].value_counts()\n",
    "\n",
    "grupo0=college[college['Clasificacion']==0]\n",
    "grupo1=college[college['Clasificacion']==1]\n",
    "grupo2=college[college['Clasificacion']==2]\n",
    "# grupo3=college[college['Clasificacion']==3]\n",
    "\n",
    "df=pd.DataFrame()\n",
    "df['grupo0']=grupo0.median()\n",
    "df['grupo1']=grupo1.median()\n",
    "df['grupo2']=grupo2.median()\n",
    "# df['grupo3']=grupo3.median()\n",
    "df"
   ]
  },
  {
   "cell_type": "code",
   "execution_count": null,
   "metadata": {},
   "outputs": [],
   "source": [
    "# dict for the dataframes and their names\n",
    "dfs = {\"grupo0\" : grupo0, \"grupo1\": grupo1, \"grupo2\" : grupo2}\n",
    "\n",
    "# plot the data\n",
    "fig = go.Figure()\n",
    "\n",
    "for i in dfs:\n",
    "    fig = fig.add_trace(go.Box(y = dfs[i][\"Costo_Anual_Estudio\"], \n",
    "                                   name = i))\n",
    "fig.show()"
   ]
  },
  {
   "cell_type": "code",
   "execution_count": null,
   "metadata": {},
   "outputs": [],
   "source": [
    "kmeans_model_2D = KMeans(n_clusters=3, max_iter=1000).fit(Instfit)\n",
    "labels_2D = kmeans_model_2D.labels_\n",
    "centroids_2D = kmeans_model_2D.cluster_centers_\n",
    "fig, ax = plt.subplots(figsize=(7, 5))\n",
    "\n",
    "plt.scatter(centroids_2D[:,0], centroids_2D[:,1], c='r', marker='o')\n",
    "\n",
    "for i in range(len(centroids_2D)):\n",
    "    plt.annotate(i, (centroids_2D[i][0], centroids_2D[i][1]), fontsize=20)"
   ]
  },
  {
   "cell_type": "code",
   "execution_count": null,
   "metadata": {},
   "outputs": [],
   "source": [
    "institution['Nombre Collage']=nombresInstitution\n",
    "institution['Clasificacion']=labels_2D\n",
    "institution['Clasificacion'].value_counts()\n",
    "\n",
    "grupo0=institution[institution['Clasificacion']==0]\n",
    "grupo1=institution[institution['Clasificacion']==1]\n",
    "grupo2=institution[institution['Clasificacion']==2]\n",
    "# grupo3=institution[institution['Clasificacion']==3]\n",
    "\n",
    "df=pd.DataFrame()\n",
    "df['grupo0']=grupo0.median()\n",
    "df['grupo1']=grupo1.median()\n",
    "df['grupo2']=grupo2.median()\n",
    "# df['grupo3']=grupo3.median()\n",
    "df"
   ]
  },
  {
   "cell_type": "code",
   "execution_count": null,
   "metadata": {},
   "outputs": [],
   "source": [
    "# dict for the dataframes and their names\n",
    "dfs = {\"grupo0\" : grupo0, \"grupo1\": grupo1, \"grupo2\" : grupo2}\n",
    "\n",
    "# plot the data\n",
    "fig = go.Figure()\n",
    "\n",
    "for i in dfs:\n",
    "    fig = fig.add_trace(go.Box(y = dfs[i][\"Costo_Anual_Estudio\"], \n",
    "                                   name = i))\n",
    "fig.show()"
   ]
  },
  {
   "cell_type": "code",
   "execution_count": null,
   "metadata": {},
   "outputs": [],
   "source": [
    "df_2D = norm_university[['Estudiantes_Mayor_25', 'Becados_Pell']]\n",
    "df_2D = np.array(df_2D)\n",
    "kmeans_model_2D = KMeans(n_clusters=3, max_iter=1000).fit(df_2D)\n",
    "labels_2D = kmeans_model_2D.labels_\n",
    "centroids_2D = kmeans_model_2D.cluster_centers_\n",
    "\n",
    "colors_k_means = ['blue','green','red','yellow']\n",
    " \n",
    "fig = plt.figure(figsize=(10, 8))\n",
    "plt.scatter(df_2D[:, 0], df_2D[:, 1], c=labels_2D, s=200,\n",
    "            cmap=matplotlib.colors.ListedColormap(colors_k_means), alpha=0.6)\n",
    "plt.scatter(centroids_2D[:, 0], centroids_2D[:, 1], c='black', s=200, marker='.')\n",
    "\n",
    "for i in range(len(centroids_2D)):\n",
    "    plt.annotate( i, (centroids_2D[i][0], centroids_2D[i][1]), fontsize=20)"
   ]
  },
  {
   "cell_type": "code",
   "execution_count": null,
   "metadata": {},
   "outputs": [],
   "source": [
    "df_2D = norm_college[['Estudiantes_Mayor_25', 'Becados_Pell']]\n",
    "df_2D = np.array(df_2D)\n",
    "kmeans_model_2D = KMeans(n_clusters=3, max_iter=1000).fit(df_2D)\n",
    "labels_2D = kmeans_model_2D.labels_\n",
    "centroids_2D = kmeans_model_2D.cluster_centers_\n",
    "\n",
    "colors_k_means = ['blue','green','red']\n",
    " \n",
    "fig = plt.figure(figsize=(10, 8))\n",
    "plt.scatter(df_2D[:, 0], df_2D[:, 1], c=labels_2D, s=200,\n",
    "            cmap=matplotlib.colors.ListedColormap(colors_k_means), alpha=0.6)\n",
    "plt.scatter(centroids_2D[:, 0], centroids_2D[:, 1], c='black', s=200, marker='.')\n",
    "\n",
    "for i in range(len(centroids_2D)):\n",
    "    plt.annotate( i, (centroids_2D[i][0], centroids_2D[i][1]), fontsize=20)"
   ]
  },
  {
   "cell_type": "code",
   "execution_count": null,
   "metadata": {},
   "outputs": [],
   "source": [
    "df_2D = norm_institution[['Estudiantes_Mayor_25', 'Becados_Pell']]\n",
    "df_2D = np.array(df_2D)\n",
    "kmeans_model_2D = KMeans(n_clusters=3, max_iter=1000).fit(df_2D)\n",
    "labels_2D = kmeans_model_2D.labels_\n",
    "centroids_2D = kmeans_model_2D.cluster_centers_\n",
    "\n",
    "colors_k_means = ['blue','green','red']\n",
    " \n",
    "fig = plt.figure(figsize=(10, 8))\n",
    "plt.scatter(df_2D[:, 0], df_2D[:, 1], c=labels_2D, s=200,\n",
    "            cmap=matplotlib.colors.ListedColormap(colors_k_means), alpha=0.6)\n",
    "plt.scatter(centroids_2D[:, 0], centroids_2D[:, 1], c='black', s=200, marker='.')\n",
    "\n",
    "for i in range(len(centroids_2D)):\n",
    "    plt.annotate( i, (centroids_2D[i][0], centroids_2D[i][1]), fontsize=20)"
   ]
  }
 ],
 "metadata": {
  "kernelspec": {
   "display_name": "Python 3 (ipykernel)",
   "language": "python",
   "name": "python3"
  },
  "language_info": {
   "codemirror_mode": {
    "name": "ipython",
    "version": 3
   },
   "file_extension": ".py",
   "mimetype": "text/x-python",
   "name": "python",
   "nbconvert_exporter": "python",
   "pygments_lexer": "ipython3",
   "version": "3.9.12"
  },
  "vscode": {
   "interpreter": {
    "hash": "c7227f0921c6c9800b7edc8b58eefe31809a2d15506b8e1b5e78203e827c1f0c"
   }
  }
 },
 "nbformat": 4,
 "nbformat_minor": 2
}
